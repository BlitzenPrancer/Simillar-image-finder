{
  "nbformat": 4,
  "nbformat_minor": 0,
  "metadata": {
    "colab": {
      "name": "Simillar-image-finder.ipynb",
      "provenance": [],
      "authorship_tag": "ABX9TyNkZiTmF+fWkz23p0q5G53X",
      "include_colab_link": true
    },
    "kernelspec": {
      "name": "python3",
      "display_name": "Python 3"
    },
    "language_info": {
      "name": "python"
    }
  },
  "cells": [
    {
      "cell_type": "markdown",
      "metadata": {
        "id": "view-in-github",
        "colab_type": "text"
      },
      "source": [
        "<a href=\"https://colab.research.google.com/github/BlitzenPrancer/Simillar-image-finder/blob/main/Simillar_image_finder.ipynb\" target=\"_parent\"><img src=\"https://colab.research.google.com/assets/colab-badge.svg\" alt=\"Open In Colab\"/></a>"
      ]
    },
    {
      "cell_type": "code",
      "metadata": {
        "colab": {
          "base_uri": "https://localhost:8080/"
        },
        "id": "V-bKtXdZRcte",
        "outputId": "4d1676df-048c-435a-edbf-afab82259a0f"
      },
      "source": [
        "! pip install DeepImageSearch -q"
      ],
      "execution_count": 1,
      "outputs": [
        {
          "output_type": "stream",
          "name": "stdout",
          "text": [
            "\u001b[?25l\r\u001b[K     |▌                               | 10 kB 27.8 MB/s eta 0:00:01\r\u001b[K     |█                               | 20 kB 17.3 MB/s eta 0:00:01\r\u001b[K     |█▌                              | 30 kB 11.4 MB/s eta 0:00:01\r\u001b[K     |██                              | 40 kB 9.0 MB/s eta 0:00:01\r\u001b[K     |██▌                             | 51 kB 8.6 MB/s eta 0:00:01\r\u001b[K     |███                             | 61 kB 4.3 MB/s eta 0:00:01\r\u001b[K     |███▌                            | 71 kB 4.9 MB/s eta 0:00:01\r\u001b[K     |████                            | 81 kB 4.7 MB/s eta 0:00:01\r\u001b[K     |████▋                           | 92 kB 4.8 MB/s eta 0:00:01\r\u001b[K     |█████                           | 102 kB 5.3 MB/s eta 0:00:01\r\u001b[K     |█████▋                          | 112 kB 5.3 MB/s eta 0:00:01\r\u001b[K     |██████                          | 122 kB 5.3 MB/s eta 0:00:01\r\u001b[K     |██████▋                         | 133 kB 5.3 MB/s eta 0:00:01\r\u001b[K     |███████                         | 143 kB 5.3 MB/s eta 0:00:01\r\u001b[K     |███████▋                        | 153 kB 5.3 MB/s eta 0:00:01\r\u001b[K     |████████▏                       | 163 kB 5.3 MB/s eta 0:00:01\r\u001b[K     |████████▋                       | 174 kB 5.3 MB/s eta 0:00:01\r\u001b[K     |█████████▏                      | 184 kB 5.3 MB/s eta 0:00:01\r\u001b[K     |█████████▋                      | 194 kB 5.3 MB/s eta 0:00:01\r\u001b[K     |██████████▏                     | 204 kB 5.3 MB/s eta 0:00:01\r\u001b[K     |██████████▋                     | 215 kB 5.3 MB/s eta 0:00:01\r\u001b[K     |███████████▏                    | 225 kB 5.3 MB/s eta 0:00:01\r\u001b[K     |███████████▋                    | 235 kB 5.3 MB/s eta 0:00:01\r\u001b[K     |████████████▏                   | 245 kB 5.3 MB/s eta 0:00:01\r\u001b[K     |████████████▊                   | 256 kB 5.3 MB/s eta 0:00:01\r\u001b[K     |█████████████▏                  | 266 kB 5.3 MB/s eta 0:00:01\r\u001b[K     |█████████████▊                  | 276 kB 5.3 MB/s eta 0:00:01\r\u001b[K     |██████████████▏                 | 286 kB 5.3 MB/s eta 0:00:01\r\u001b[K     |██████████████▊                 | 296 kB 5.3 MB/s eta 0:00:01\r\u001b[K     |███████████████▏                | 307 kB 5.3 MB/s eta 0:00:01\r\u001b[K     |███████████████▊                | 317 kB 5.3 MB/s eta 0:00:01\r\u001b[K     |████████████████▎               | 327 kB 5.3 MB/s eta 0:00:01\r\u001b[K     |████████████████▊               | 337 kB 5.3 MB/s eta 0:00:01\r\u001b[K     |█████████████████▎              | 348 kB 5.3 MB/s eta 0:00:01\r\u001b[K     |█████████████████▊              | 358 kB 5.3 MB/s eta 0:00:01\r\u001b[K     |██████████████████▎             | 368 kB 5.3 MB/s eta 0:00:01\r\u001b[K     |██████████████████▊             | 378 kB 5.3 MB/s eta 0:00:01\r\u001b[K     |███████████████████▎            | 389 kB 5.3 MB/s eta 0:00:01\r\u001b[K     |███████████████████▊            | 399 kB 5.3 MB/s eta 0:00:01\r\u001b[K     |████████████████████▎           | 409 kB 5.3 MB/s eta 0:00:01\r\u001b[K     |████████████████████▉           | 419 kB 5.3 MB/s eta 0:00:01\r\u001b[K     |█████████████████████▎          | 430 kB 5.3 MB/s eta 0:00:01\r\u001b[K     |█████████████████████▉          | 440 kB 5.3 MB/s eta 0:00:01\r\u001b[K     |██████████████████████▎         | 450 kB 5.3 MB/s eta 0:00:01\r\u001b[K     |██████████████████████▉         | 460 kB 5.3 MB/s eta 0:00:01\r\u001b[K     |███████████████████████▎        | 471 kB 5.3 MB/s eta 0:00:01\r\u001b[K     |███████████████████████▉        | 481 kB 5.3 MB/s eta 0:00:01\r\u001b[K     |████████████████████████▍       | 491 kB 5.3 MB/s eta 0:00:01\r\u001b[K     |████████████████████████▉       | 501 kB 5.3 MB/s eta 0:00:01\r\u001b[K     |█████████████████████████▍      | 512 kB 5.3 MB/s eta 0:00:01\r\u001b[K     |█████████████████████████▉      | 522 kB 5.3 MB/s eta 0:00:01\r\u001b[K     |██████████████████████████▍     | 532 kB 5.3 MB/s eta 0:00:01\r\u001b[K     |██████████████████████████▉     | 542 kB 5.3 MB/s eta 0:00:01\r\u001b[K     |███████████████████████████▍    | 552 kB 5.3 MB/s eta 0:00:01\r\u001b[K     |███████████████████████████▉    | 563 kB 5.3 MB/s eta 0:00:01\r\u001b[K     |████████████████████████████▍   | 573 kB 5.3 MB/s eta 0:00:01\r\u001b[K     |█████████████████████████████   | 583 kB 5.3 MB/s eta 0:00:01\r\u001b[K     |█████████████████████████████▍  | 593 kB 5.3 MB/s eta 0:00:01\r\u001b[K     |██████████████████████████████  | 604 kB 5.3 MB/s eta 0:00:01\r\u001b[K     |██████████████████████████████▍ | 614 kB 5.3 MB/s eta 0:00:01\r\u001b[K     |███████████████████████████████ | 624 kB 5.3 MB/s eta 0:00:01\r\u001b[K     |███████████████████████████████▍| 634 kB 5.3 MB/s eta 0:00:01\r\u001b[K     |████████████████████████████████| 645 kB 5.3 MB/s eta 0:00:01\r\u001b[K     |████████████████████████████████| 646 kB 5.3 MB/s \n",
            "\u001b[?25h  Building wheel for DeepImageSearch (setup.py) ... \u001b[?25l\u001b[?25hdone\n",
            "  Building wheel for annoy (setup.py) ... \u001b[?25l\u001b[?25hdone\n"
          ]
        }
      ]
    },
    {
      "cell_type": "code",
      "metadata": {
        "id": "OnnNLZ7WSADT"
      },
      "source": [
        "import numpy as np\n",
        "import pandas as pd"
      ],
      "execution_count": 2,
      "outputs": []
    }
  ]
}